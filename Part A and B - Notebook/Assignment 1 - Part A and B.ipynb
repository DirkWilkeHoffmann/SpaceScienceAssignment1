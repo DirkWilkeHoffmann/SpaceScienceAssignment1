{
 "cells": [
  {
   "cell_type": "markdown",
   "metadata": {},
   "source": [
    "# Assignment 1 - Part A and B:\n",
    "In Part A you will learn how to code Belief Propogation. For Part B you have to compare different landcover classification approaches. How to load the data is discussed in this notebook.\n",
    "\n",
    "**PLEASE USE `scikit-learn` FOR ALL MACHINE LEARNING RELATED TASKS**\n",
    "\n",
    "**YOU ARE ALWAYS REQUIRED TO SUBMIT THE CODE THAT YOU DEVELOPED ALONGSIDE THE COMPLETED ANSWER NOTEBOOK**\n",
    "\n",
    "\n",
    "**You will also be required to report on all the contents of this notebook once completed, the results sould be in your report and well documented**\n",
    "\n",
    "### Group Name:\n",
    "### Student Number(s):"
   ]
  },
  {
   "cell_type": "markdown",
   "metadata": {},
   "source": [
    "This notebook is divided into two parts. You will first be required to implement belief propogation.\n",
    "You will then be expected to build a sequential classifier (and other classification models) which can discern between vegatation and settlement MODIS pixels. "
   ]
  },
  {
   "cell_type": "markdown",
   "metadata": {},
   "source": [
    "# Part A: Belief Propogation"
   ]
  },
  {
   "cell_type": "markdown",
   "metadata": {},
   "source": [
    "Implement a BPSK (Binary Phase Shift Keying) modulation scheme on an AWGN (Additive White Gaussian Noise) communication channel.\n",
    "\n",
    "Use this implementation to plot the simulated BER curve associated with an uncoded BPSK AWGN channel. \n",
    "\n",
    "Also plot the theoretical BER curve for a uncoded BPSK channel. \n",
    "\n",
    "Now add a Hamming (7,4,3) code to the channel and decode it using belief propogation. \n",
    "\n",
    "Also plot the BER curve of the coded BPSK AWGN channel.\n",
    "\n",
    "\n",
    "_Make sure that the resulting curve is very smooth, otherwise marks will be deducted_"
   ]
  },
  {
   "cell_type": "code",
   "execution_count": null,
   "metadata": {},
   "outputs": [],
   "source": [
    "from IPython.display import Image\n",
    "Image(\"./uncoded_BPSK.jpg\")"
   ]
  },
  {
   "cell_type": "markdown",
   "metadata": {},
   "source": [
    "Your plot should look similar to:"
   ]
  },
  {
   "cell_type": "code",
   "execution_count": null,
   "metadata": {},
   "outputs": [],
   "source": [
    "from IPython.display import Image\n",
    "Image(\"./ber.jpg\")"
   ]
  },
  {
   "cell_type": "code",
   "execution_count": null,
   "metadata": {},
   "outputs": [],
   "source": [
    "\"\"\"Code Here\"\"\"\n",
    "\n",
    "\n",
    "\n"
   ]
  },
  {
   "cell_type": "markdown",
   "metadata": {},
   "source": [
    "# Part B Remote Sensing - MODIS \n",
    "\n",
    "How to load the dataset you will be using for part B of the assignment is discussed below."
   ]
  },
  {
   "cell_type": "code",
   "execution_count": null,
   "metadata": {},
   "outputs": [],
   "source": [
    "import scipy.io\n",
    "import pylab as plt\n",
    "import numpy as np"
   ]
  },
  {
   "cell_type": "markdown",
   "metadata": {},
   "source": [
    "## Plotting a random vegetation and settlement MODIS pixel"
   ]
  },
  {
   "cell_type": "code",
   "execution_count": null,
   "metadata": {},
   "outputs": [],
   "source": [
    "def plot_mat(name=\"\"):\n",
    "    mat = scipy.io.loadmat(name)\n",
    "    print(mat.keys())\n",
    "    veg_gauteng = mat['veg_gauteng']\n",
    "          \n",
    "    #(time,pixels,band)\n",
    "    #(time,pixels,7) - NDVI\n",
    "    print(veg_gauteng.shape)\n",
    "\n",
    "    #(time,pixels,band)\n",
    "    #(time,pixels,7) - NDVI\n",
    "    bwt_gauteng = mat['bwt_gauteng']\n",
    "    #bldg_gauteng = mat['bldg_gauteng']\n",
    "    print(bwt_gauteng.shape)\n",
    "                   \n",
    "    #PLOT A SINGLE VEGETATION MODIS PIXEL (over all time and bands - except NDVI) \n",
    "    for k in range(7):\n",
    "          plt.plot(veg_gauteng[:,0,k])\n",
    "    plt.title(\"VEGETATION\")\n",
    "    plt.show()\n",
    "          \n",
    "    #PLOT A SINGLE SETTLEMENT MODIS PIXEL (over all time and bands - except NDVI) \n",
    "    for k in range(7):\n",
    "        plt.plot(bwt_gauteng[:,0,k])\n",
    "\n",
    "    plt.title(\"SETTLEMENT\") \n",
    "    plt.show()      "
   ]
  },
  {
   "cell_type": "markdown",
   "metadata": {},
   "source": [
    "## Load the data set"
   ]
  },
  {
   "cell_type": "markdown",
   "metadata": {},
   "source": [
    "In this part of the assignment you will be required to train a time-varying MODIS classification model. You will then use the SPRT algorithm and the trained time-varying model to perform sequential classification of MODIS time-series. You will also implement a Naive Bayes classifier and a Logistic Regression classifier that takes as input the MODIS data after having performed dimensionality reduction on it. In the end you will compare the efficacy of the different classification algorithms with one another. Your main task is to discern between vegetation and settlement pixels. Below we plot a random MODIS vegetation and settlement pixel."
   ]
  },
  {
   "cell_type": "code",
   "execution_count": null,
   "metadata": {},
   "outputs": [],
   "source": [
    "plot_mat(name=\"Gauteng_nochange.mat\")"
   ]
  },
  {
   "cell_type": "markdown",
   "metadata": {},
   "source": [
    "We now load the data into a multi-dimensional numpy array."
   ]
  },
  {
   "cell_type": "code",
   "execution_count": null,
   "metadata": {},
   "outputs": [],
   "source": [
    "mat = scipy.io.loadmat(\"Gauteng_nochange.mat\")\n",
    "veg_gauteng = mat['veg_gauteng']\n",
    "bwt_gauteng = mat['bwt_gauteng']"
   ]
  },
  {
   "cell_type": "markdown",
   "metadata": {},
   "source": [
    "**MISSING ANSWER**"
   ]
  },
  {
   "cell_type": "markdown",
   "metadata": {},
   "source": [
    "Please plot the data recorded at time-step 7 of 45 in the first year. Your result should look similar to the graph depicted below."
   ]
  },
  {
   "cell_type": "code",
   "execution_count": null,
   "metadata": {},
   "outputs": [],
   "source": [
    "Image(\"./sample.png\")"
   ]
  },
  {
   "cell_type": "markdown",
   "metadata": {},
   "source": [
    "**`MISSING CODE`**"
   ]
  },
  {
   "cell_type": "markdown",
   "metadata": {},
   "source": [
    "Let's create our observation matrix $\\mathbf{X}$ -- [samples, features] and our class labels $\\mathbf{y}$."
   ]
  },
  {
   "cell_type": "code",
   "execution_count": null,
   "metadata": {},
   "outputs": [],
   "source": [
    "X = np.concatenate((veg_gauteng,bwt_gauteng),axis=1)\n",
    "print(X.shape)\n",
    "yv = np.ones((592,1),dtype=int)\n",
    "yb = np.zeros((333,1),dtype=int)\n",
    "y = np.vstack((yv,yb))[:,0]\n",
    "\n",
    "print(X.shape)\n",
    "print(y.shape)"
   ]
  },
  {
   "cell_type": "markdown",
   "metadata": {},
   "source": [
    "Now that you have your data and you understand it it is time to complete Part B of the assignment. Please refer to the main assignment document for the details."
   ]
  },
  {
   "cell_type": "code",
   "execution_count": null,
   "metadata": {},
   "outputs": [],
   "source": [
    "\"\"\"Code Here if you choose to answer Part B in the notebook\"\"\""
   ]
  }
 ],
 "metadata": {
  "kernelspec": {
   "display_name": "Python 3 (ipykernel)",
   "language": "python",
   "name": "python3"
  },
  "language_info": {
   "codemirror_mode": {
    "name": "ipython",
    "version": 3
   },
   "file_extension": ".py",
   "mimetype": "text/x-python",
   "name": "python",
   "nbconvert_exporter": "python",
   "pygments_lexer": "ipython3",
   "version": "3.10.12"
  }
 },
 "nbformat": 4,
 "nbformat_minor": 4
}
